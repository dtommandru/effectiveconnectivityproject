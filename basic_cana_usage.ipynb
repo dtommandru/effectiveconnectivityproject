{
 "cells": [
  {
   "cell_type": "code",
   "execution_count": 1,
   "metadata": {},
   "outputs": [],
   "source": [
    "from cana.boolean_network import BooleanNetwork"
   ]
  },
  {
   "cell_type": "markdown",
   "metadata": {},
   "source": [
    "# NK Model\n",
    "\n",
    "We have N nodes. Per node you have 2 lists:\n",
    "- size K : random values from 0 to N-1 ('in')\n",
    "- size 2^K : random values in [0, 1] such that p(2^K) = 1 ('out')\n",
    "\n",
    "Critical Regime for N->\\infty\n",
    "2KP(1-P) = 1\n",
    "\n",
    "Original you need N, K, P\n",
    "We would like to also specify Ke (effective_connectivity)"
   ]
  },
  {
   "cell_type": "code",
   "execution_count": 2,
   "metadata": {},
   "outputs": [],
   "source": [
    "bn_dict = {0: {'name': 'A', 'in': [2, 1], 'out': [0, 1, 0, 1]},\n",
    "           1: {'name': 'B', 'in': [0], 'out': [0, 1]},\n",
    "           2: {'name': 'C', 'in': [1], 'out': [1, 0]}}"
   ]
  },
  {
   "cell_type": "code",
   "execution_count": 3,
   "metadata": {},
   "outputs": [],
   "source": [
    "BN = BooleanNetwork.from_dict(bn_dict)"
   ]
  },
  {
   "cell_type": "code",
   "execution_count": 9,
   "metadata": {},
   "outputs": [
    {
     "name": "stdout",
     "output_type": "stream",
     "text": [
      "A 2 0.5 1.0\n",
      "  In: Out:\n",
      "0  00    0\n",
      "1  01    1\n",
      "2  10    0\n",
      "3  11    1\n",
      "  Input  Output\n",
      "0    #0       0\n",
      "1    #1       1\n",
      "B 1 0.5 1.0\n",
      "  In: Out:\n",
      "0   0    0\n",
      "1   1    1\n",
      "  Input  Output\n",
      "0     0       0\n",
      "1     1       1\n",
      "C 1 0.5 1.0\n",
      "  In: Out:\n",
      "0   0    1\n",
      "1   1    0\n",
      "  Input  Output\n",
      "0     1       0\n",
      "1     0       1\n"
     ]
    }
   ],
   "source": [
    "for n in BN.nodes:\n",
    "    print(n.name, n.k, n.bias(), n.effective_connectivity(norm=False))\n",
    "    print(n.look_up_table())\n",
    "    print(n.schemata_look_up_table())\n",
    "    "
   ]
  },
  {
   "cell_type": "code",
   "execution_count": null,
   "metadata": {},
   "outputs": [],
   "source": []
  }
 ],
 "metadata": {
  "kernelspec": {
   "display_name": "fcenv",
   "language": "python",
   "name": "python3"
  },
  "language_info": {
   "codemirror_mode": {
    "name": "ipython",
    "version": 3
   },
   "file_extension": ".py",
   "mimetype": "text/x-python",
   "name": "python",
   "nbconvert_exporter": "python",
   "pygments_lexer": "ipython3",
   "version": "3.8.10"
  }
 },
 "nbformat": 4,
 "nbformat_minor": 2
}
